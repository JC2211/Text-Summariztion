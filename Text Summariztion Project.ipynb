{
 "cells": [
  {
   "cell_type": "code",
   "execution_count": 1,
   "metadata": {},
   "outputs": [],
   "source": [
    "from nltk.tokenize import word_tokenize,sent_tokenize\n",
    "from nltk.corpus import stopwords\n",
    "import pandas as pd\n",
    "import numpy as np\n",
    "from collections import Counter"
   ]
  },
  {
   "cell_type": "code",
   "execution_count": 2,
   "metadata": {},
   "outputs": [],
   "source": [
    "f=open(\"msft.txt\",\"r\")\n",
    "r=f.read()\n",
    "word=word_tokenize(r)\n",
    "stop_words=stopwords.words('english')\n",
    "punc=['.',',',':',';','?','!','the','The']\n",
    "words1=list()\n",
    "#print(stop_words)\n",
    "for i in word:\n",
    "    if i not in stop_words and i not in punc:\n",
    "        words1.append(i)\n",
    "#print(words1)"
   ]
  },
  {
   "cell_type": "code",
   "execution_count": 3,
   "metadata": {},
   "outputs": [],
   "source": [
    "count=Counter(words1)\n",
    "#print(count)"
   ]
  },
  {
   "cell_type": "code",
   "execution_count": 4,
   "metadata": {},
   "outputs": [],
   "source": [
    "head1=list()\n",
    "final=list()\n",
    "for i in count.values():\n",
    "    head1.append(i)\n",
    "head1.sort(reverse=True)\n",
    "#print(head1)\n",
    "head2=list()\n",
    "j=0\n",
    "for i in head1:\n",
    "    if j<5:\n",
    "        head2.append(i)\n",
    "        j+=1\n",
    "#print(head2)"
   ]
  },
  {
   "cell_type": "code",
   "execution_count": 5,
   "metadata": {},
   "outputs": [],
   "source": [
    "fin=list()\n",
    "for i,j in count.items():\n",
    "    if j in head2:\n",
    "        fin.append(i)\n",
    "#print(fin)"
   ]
  },
  {
   "cell_type": "code",
   "execution_count": 6,
   "metadata": {},
   "outputs": [
    {
     "name": "stdout",
     "output_type": "stream",
     "text": [
      "skills AI program build Microsoft\n"
     ]
    }
   ],
   "source": [
    "import random\n",
    "random.shuffle(fin)\n",
    "#print(fin)\n",
    "st=\" \".join(fin)\n",
    "print(st)"
   ]
  },
  {
   "cell_type": "code",
   "execution_count": null,
   "metadata": {},
   "outputs": [],
   "source": []
  }
 ],
 "metadata": {
  "kernelspec": {
   "display_name": "Python 3",
   "language": "python",
   "name": "python3"
  },
  "language_info": {
   "codemirror_mode": {
    "name": "ipython",
    "version": 3
   },
   "file_extension": ".py",
   "mimetype": "text/x-python",
   "name": "python",
   "nbconvert_exporter": "python",
   "pygments_lexer": "ipython3",
   "version": "3.7.1"
  }
 },
 "nbformat": 4,
 "nbformat_minor": 2
}
